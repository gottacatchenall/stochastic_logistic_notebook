{
 "cells": [
  {
   "cell_type": "markdown",
   "metadata": {},
   "source": [
    "# Ecological  Forecasting using the Stochastic Logistic Model"
   ]
  },
  {
   "cell_type": "code",
   "execution_count": 36,
   "metadata": {},
   "outputs": [],
   "source": [
    "library(tidyverse)\n",
    "source('./helper_functions.R')\n",
    "thm = theme_minimal()"
   ]
  },
  {
   "cell_type": "markdown",
   "metadata": {},
   "source": [
    "## What is the stochastic logistic model?"
   ]
  },
  {
   "cell_type": "markdown",
   "metadata": {},
   "source": [
    "### What is the logistic model?"
   ]
  },
  {
   "cell_type": "markdown",
   "metadata": {},
   "source": [
    "$$\\frac{dN}{dt} = \\lambda N \\bigg(1 - \\frac{N}{K} \\bigg)$$"
   ]
  },
  {
   "cell_type": "markdown",
   "metadata": {},
   "source": [
    "This is a differential equation, which describes how the abundance, $N$, changes as a function of both $N$, and the parameters, $\\theta = \\{\\lambda, K \\}$ at a particular instant in time."
   ]
  },
  {
   "cell_type": "markdown",
   "metadata": {},
   "source": [
    "To simulate the logistic model in R, we write function, `logistic model()`, which computes $\\frac{dN}{dt}$."
   ]
  },
  {
   "cell_type": "code",
   "execution_count": 2,
   "metadata": {},
   "outputs": [],
   "source": [
    "logistic_model = function(old_N, lambda, K){\n",
    "    delta_N = old_N*lambda*(1-(old_N/K))\n",
    "    return(delta_N)\n",
    "}"
   ]
  },
  {
   "cell_type": "markdown",
   "metadata": {},
   "source": [
    "Then, we can simulate the evolution of this equation over time, given some initial condition, $N_0$, with the function\n"
   ]
  },
  {
   "cell_type": "markdown",
   "metadata": {},
   "source": [
    "$$N_t = N_{t-1} + \\frac{dN}{dt}\\Delta t$$"
   ]
  },
  {
   "cell_type": "code",
   "execution_count": 26,
   "metadata": {},
   "outputs": [],
   "source": [
    "simulate_logistic_model = function(N_0 = 10, \n",
    "                                   K = 300, \n",
    "                                   lambda = 1.2,\n",
    "                                   delta_t = 0.01,\n",
    "                                   t_max = 10)\n",
    "{\n",
    "    t_vec = seq(1,t_max,by=delta_t)\n",
    "    num_timesteps = length(t_vec)\n",
    "    N = rep(0, num_timesteps)\n",
    "    N[1] = N_0\n",
    "    \n",
    "    for (t in 2:num_timesteps){\n",
    "        delta_n = logistic_model(N[t-1], lambda, K)\n",
    "        N[t] = N[t-1] + delta_t * delta_n \n",
    "    }\n",
    "    return(list(t=t_vec,N=N))\n",
    "}"
   ]
  },
  {
   "cell_type": "code",
   "execution_count": 32,
   "metadata": {},
   "outputs": [
    {
     "data": {
      "image/png": "[encoded data removed]",
      "text/plain": [
       "plot without title"
      ]
     },
     "metadata": {
      "image/png": {
       "height": 420,
       "width": 420
      },
      "text/plain": {
       "height": 420,
       "width": 420
      }
     },
     "output_type": "display_data"
    }
   ],
   "source": [
    "res = data.frame(simulate_logistic_model(t_max = 10))\n",
    "res %>% ggplot(aes(t, N)) + geom_line() + thm "
   ]
  },
  {
   "cell_type": "markdown",
   "metadata": {},
   "source": [
    "There are other methods to solve differential equations (the methods implemented by `ode45`, for example, is Runge-Kutta), however this relatively simple method, typically called Euler's method, is very similar to the numerical methods used to solve stochastic-differential equations."
   ]
  },
  {
   "cell_type": "markdown",
   "metadata": {},
   "source": [
    "### Adding stochasticity to the logistic model "
   ]
  },
  {
   "cell_type": "markdown",
   "metadata": {},
   "source": [
    "The stochastic logistic model is defined by the SDE "
   ]
  },
  {
   "cell_type": "markdown",
   "metadata": {},
   "source": [
    "$$dN = \\lambda N \\bigg(1-\\frac{N}{K}\\bigg) dt + \\sigma dW$$"
   ]
  },
  {
   "cell_type": "markdown",
   "metadata": {},
   "source": [
    "What if we want to fit a logistic model to data? Say we have an existing dataset of abundances over time."
   ]
  },
  {
   "cell_type": "code",
   "execution_count": 105,
   "metadata": {},
   "outputs": [
    {
     "name": "stdout",
     "output_type": "stream",
     "text": [
      "[1] 6.666667\n"
     ]
    },
    {
     "data": {
      "text/html": [
       "<table>\n",
       "<caption>A data.frame: 15 × 2</caption>\n",
       "<thead>\n",
       "\t<tr><th scope=col>t</th><th scope=col>N</th></tr>\n",
       "\t<tr><th scope=col>&lt;dbl&gt;</th><th scope=col>&lt;dbl&gt;</th></tr>\n",
       "</thead>\n",
       "<tbody>\n",
       "\t<tr><td>0</td><td>140</td></tr>\n",
       "\t<tr><td>0</td><td>  0</td></tr>\n",
       "\t<tr><td>0</td><td>  0</td></tr>\n",
       "\t<tr><td>0</td><td>  0</td></tr>\n",
       "\t<tr><td>0</td><td>  0</td></tr>\n",
       "\t<tr><td>0</td><td>  0</td></tr>\n",
       "\t<tr><td>0</td><td>  0</td></tr>\n",
       "\t<tr><td>0</td><td>  0</td></tr>\n",
       "\t<tr><td>0</td><td>  0</td></tr>\n",
       "\t<tr><td>0</td><td>  0</td></tr>\n",
       "\t<tr><td>0</td><td>  0</td></tr>\n",
       "\t<tr><td>0</td><td>  0</td></tr>\n",
       "\t<tr><td>0</td><td>  0</td></tr>\n",
       "\t<tr><td>0</td><td>  0</td></tr>\n",
       "\t<tr><td>0</td><td>  0</td></tr>\n",
       "</tbody>\n",
       "</table>\n"
      ],
      "text/latex": [
       "A data.frame: 15 × 2\n",
       "\\begin{tabular}{ll}\n",
       " t & N\\\\\n",
       " <dbl> & <dbl>\\\\\n",
       "\\hline\n",
       "\t 0 & 140\\\\\n",
       "\t 0 &   0\\\\\n",
       "\t 0 &   0\\\\\n",
       "\t 0 &   0\\\\\n",
       "\t 0 &   0\\\\\n",
       "\t 0 &   0\\\\\n",
       "\t 0 &   0\\\\\n",
       "\t 0 &   0\\\\\n",
       "\t 0 &   0\\\\\n",
       "\t 0 &   0\\\\\n",
       "\t 0 &   0\\\\\n",
       "\t 0 &   0\\\\\n",
       "\t 0 &   0\\\\\n",
       "\t 0 &   0\\\\\n",
       "\t 0 &   0\\\\\n",
       "\\end{tabular}\n"
      ],
      "text/markdown": [
       "\n",
       "A data.frame: 15 × 2\n",
       "\n",
       "| t &lt;dbl&gt; | N &lt;dbl&gt; |\n",
       "|---|---|\n",
       "| 0 | 140 |\n",
       "| 0 |   0 |\n",
       "| 0 |   0 |\n",
       "| 0 |   0 |\n",
       "| 0 |   0 |\n",
       "| 0 |   0 |\n",
       "| 0 |   0 |\n",
       "| 0 |   0 |\n",
       "| 0 |   0 |\n",
       "| 0 |   0 |\n",
       "| 0 |   0 |\n",
       "| 0 |   0 |\n",
       "| 0 |   0 |\n",
       "| 0 |   0 |\n",
       "| 0 |   0 |\n",
       "\n"
      ],
      "text/plain": [
       "   t N  \n",
       "1  0 140\n",
       "2  0   0\n",
       "3  0   0\n",
       "4  0   0\n",
       "5  0   0\n",
       "6  0   0\n",
       "7  0   0\n",
       "8  0   0\n",
       "9  0   0\n",
       "10 0   0\n",
       "11 0   0\n",
       "12 0   0\n",
       "13 0   0\n",
       "14 0   0\n",
       "15 0   0"
      ]
     },
     "metadata": {},
     "output_type": "display_data"
    },
    {
     "data": {
      "image/png": "[encoded data removed]",
      "text/plain": [
       "plot without title"
      ]
     },
     "metadata": {
      "image/png": {
       "height": 420,
       "width": 420
      },
      "text/plain": {
       "height": 420,
       "width": 420
      }
     },
     "output_type": "display_data"
    }
   ],
   "source": [
    "get_abundance_sample = function(true_lambda = 1.2, true_sigma_p = 0.05, true_K = 250, N_0 = 140, num_samples = 15, t_max = 100, delta_t = 0.01){\n",
    "    time_vec = seq(0,t_max, by=delta_t)\n",
    "    num_timepoints = length(time_vec)\n",
    "    N = rep(0, num_timepoints)\n",
    "    N[1] = N_0\n",
    "    for (t in 2:num_timepoints){\n",
    "        delta_n = true_lambda*N[t-1]*(1 - (N[t-1]/true_K)) \n",
    "        delta_w = true_sigma_p * true_K * rnorm(1)\n",
    "        \n",
    "        N[t] = N[t-1] + delta_t * delta_n + delta_w\n",
    "        if (N[t] < 0){\n",
    "            N[t] = 0\n",
    "        }\n",
    "    }\n",
    "        \n",
    "    time_between_samples = t_max / num_samples\n",
    "    time_sample = rep(0, num_samples)\n",
    "    abundance_sample = rep(0, num_samples)\n",
    "    abundance_sample[1] = N[1]\n",
    "    sample_ct = 2\n",
    "    for (t in 2:num_timepoints){\n",
    "        if (time_vec[t]  == time_between_samples ){\n",
    "            abundance_sample[sample_ct] = N[t]\n",
    "            time_sample[sample_ct] = time_vec[t]\n",
    "            sample_ct = sample_ct + 1\n",
    "        }\n",
    "    }\n",
    "    return(list(t=time_sample, N=abundance_sample))\n",
    "}\n",
    "\n",
    "\n",
    "\n",
    "dataset = as.data.frame(get_abundance_sample(true_sigma_p = 0.03))\n",
    "(dataset) %>% ggplot(aes(t,N)) + geom_point() + thm\n",
    "dataset"
   ]
  },
  {
   "cell_type": "markdown",
   "metadata": {},
   "source": [
    "$$\\text{Pr}(N(t) = X \\ |\\ N_0, \\theta)$$"
   ]
  },
  {
   "cell_type": "code",
   "execution_count": null,
   "metadata": {},
   "outputs": [],
   "source": []
  }
 ],
 "metadata": {
  "kernelspec": {
   "display_name": "R",
   "language": "R",
   "name": "ir"
  },
  "language_info": {
   "codemirror_mode": "r",
   "file_extension": ".r",
   "mimetype": "text/x-r-source",
   "name": "R",
   "pygments_lexer": "r",
   "version": "3.6.3"
  }
 },
 "nbformat": 4,
 "nbformat_minor": 4
}
